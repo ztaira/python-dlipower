{
 "worksheets": [
  {
   "cells": [
    {
     "cell_type": "markdown",
     "metadata": {},
     "source": [
      "Description\n",
      "===========\n",
      "The digial loggers power switch provides a python interface to the Digital Loggers Web Powerswitch \n",
      "\n",
      "SUPPORTED DEVICES\n",
      "=================\n",
      "This module has been tested against the following \n",
      "Digital Loggers Power network power switches:\n",
      "* WebPowerSwitch II\n",
      "* WebPowerSwitch III\n",
      "* WebPowerSwitch IV\n",
      "* WebPowerSwitch V\n",
      "* Ethernet Power Controller III\n",
      "\n",
      "Connecting to a Powerswitch\n",
      "===========================\n",
      "To use the dlipower module, first get a powerswitch object for the switch being managed.  The resulting powerswitch object be used to query and manage the powerswitch.\n",
      "\n",
      "The Powerswitch object accepts a number of configuration settings, all the settings are optional.  If the argument is not provided the powerswitch will look for the value in the powerswitch configuration file.  If the file does not exist it will default to the default configuration settings for a Digital Loggers Web Powerswitch.  \n",
      "\n",
      "The available arguments are:\n",
      "   \n",
      "    userid = The userid (username) to use to connect to the switch (default: admin)\n",
      "    password = The password for the user connecting to the switch (default: admin)\n",
      "    hostname = The hostname or IP address of the switch to connect to (default: 192.168.0.100)\n",
      "    timeout = Longest time to wait for a network operation to take (default: 20 seconds)\n",
      "    cycletime = How long to delay between off and on operations when power cycling an outlet (default: 3 seconds)\n",
      "    "
     ]
    },
    {
     "cell_type": "code",
     "execution_count": null,
     "metadata": {},
     "outputs": [
      {
       "output_type": "pyout",
       "html": [
        "<table><tr><th colspan=\"3\">DLI Web Powerswitch at lpc.digital-loggers.com</th></tr><tr><th>Outlet Number</th><th>Outlet Name</th><th>Outlet State</th></tr>\n",
        "<tr><td>1</td><td>Tuin beregening</td><td>OFF</td></tr>\n",
        "<tr><td>2</td><td>killer robot</td><td>ON</td></tr>\n",
        "<tr><td>3</td><td>Buiten verlicting</td><td>ON</td></tr>\n",
        "<tr><td>4</td><td>Meeting Room Lights</td><td>OFF</td></tr>\n",
        "<tr><td>5</td><td>Brocade LVM123 - TCH0004</td><td>ON</td></tr>\n",
        "<tr><td>6</td><td>Shoretel ABC123 - TCH0005</td><td>ON</td></tr>\n",
        "<tr><td>7</td><td>Shortel 24V - TCH0006</td><td>ON</td></tr>\n",
        "<tr><td>8</td><td>Shortel 24V - TCH0007</td><td>ON</td></tr>\n",
        "</table>\n"
       ],
       "metadata": {}
      }
     ],
     "input": [
      "import dlipower\n",
      "\n",
      "power_switch = dlipower.PowerSwitch(hostname='lpc.digital-loggers.com')\n",
      "power_switch"
     ],
     "language": "python",
     "prompt_number": 1
    },
    {
     "cell_type": "markdown",
     "metadata": {},
     "source": [
      "Accessing Outlets on a Powerswitch\n",
      "----------------------------------\n",
      "The PowerSwitch object is iterable and functions like a sorted list of outlets. "
     ]
    },
    {
     "cell_type": "code",
     "execution_count": null,
     "metadata": {},
     "outputs": [
      {
       "output_type": "stream",
       "stream": "stdout",
       "text": [
        "Number of outlets on the powerswitch is: 8\n",
        "Tuin beregening - OFF"
       ]
      },
      {
       "output_type": "stream",
       "stream": "stdout",
       "text": [
        "\n",
        "killer robot - ON"
       ]
      },
      {
       "output_type": "stream",
       "stream": "stdout",
       "text": [
        "\n",
        "Buiten verlicting - ON"
       ]
      },
      {
       "output_type": "stream",
       "stream": "stdout",
       "text": [
        "\n",
        "Meeting Room Lights - OFF"
       ]
      },
      {
       "output_type": "stream",
       "stream": "stdout",
       "text": [
        "\n",
        "Brocade LVM123 - TCH0004 - ON"
       ]
      },
      {
       "output_type": "stream",
       "stream": "stdout",
       "text": [
        "\n",
        "Shoretel ABC123 - TCH0005 - ON"
       ]
      },
      {
       "output_type": "stream",
       "stream": "stdout",
       "text": [
        "\n",
        "Shortel 24V - TCH0006 - ON"
       ]
      },
      {
       "output_type": "stream",
       "stream": "stdout",
       "text": [
        "\n",
        "Shortel 24V - TCH0007 - ON"
       ]
      },
      {
       "output_type": "stream",
       "stream": "stdout",
       "text": [
        "\n"
       ]
      }
     ],
     "input": [
      "print('Number of outlets on the powerswitch is: %s' % len(power_switch))\n",
      "for outlet in power_switch:\n",
      "    print('%s - %s' % (outlet.description, outlet.state))"
     ],
     "language": "python",
     "prompt_number": 4
    },
    {
     "cell_type": "markdown",
     "metadata": {},
     "source": [
      "Outlet Objects\n",
      "--------------\n",
      "Outlets are python objects.  The __repr__ method will display the current state for the outlet when it is printed."
     ]
    },
    {
     "cell_type": "code",
     "execution_count": null,
     "metadata": {},
     "outputs": [
      {
       "output_type": "pyout",
       "html": [
        "<table>\n",
        "            <tr><th>Description</th><th>Outlet Number</th><th>State</th></tr>\n",
        "            <tr><td>Tuin beregening</td><td>1</td><td>ON</td></tr>\n",
        "            </table>"
       ],
       "metadata": {}
      }
     ],
     "input": [
      "# Get the first outlet\n",
      "outlet = power_switch[0]\n",
      "outlet"
     ],
     "language": "python",
     "prompt_number": 10
    },
    {
     "cell_type": "markdown",
     "metadata": {},
     "source": [
      "Outlet objects have attributes to display the current state of the outlet and manage it.  The outlet attributes are:\n",
      "\n",
      "    switch - The PowerSwitch object the outlet is part of\n",
      "    outlet_number - The number of the outlet on the powerswitch\n",
      "    description - The description (name) of the outlet.  Setting this attribute will rename the outlet on the powerswitch.\n",
      "    state - The state of the outlet.  This can be either 'off' or 'on'.  Setting this attribute will change the state on the powerswitch."
     ]
    },
    {
     "cell_type": "code",
     "execution_count": null,
     "metadata": {},
     "outputs": [
      {
       "output_type": "stream",
       "stream": "stdout",
       "text": [
        "Outlet 1 is currently ON\n",
        "Turning outlet 1 OFF\n",
        "Outlet 1 is named Heart lung machine"
       ]
      },
      {
       "output_type": "stream",
       "stream": "stdout",
       "text": [
        "\n"
       ]
      },
      {
       "output_type": "pyout",
       "html": [
        "<table>\n",
        "            <tr><th>Description</th><th>Outlet Number</th><th>State</th></tr>\n",
        "            <tr><td>shark laser</td><td>1</td><td>OFF</td></tr>\n",
        "            </table>"
       ],
       "metadata": {}
      }
     ],
     "input": [
      "# The state attribute can be used to get or set the power state of the outlet\n",
      "print('Outlet 1 is currently %s' % outlet.state)\n",
      "\n",
      "print('Turning outlet 1 OFF')\n",
      "outlet.state = 'OFF'\n",
      "\n",
      "print('Outlet 1 is named %s' % outlet.description)\n",
      "    \n",
      "# Rename the outlet to 'shark laser'\n",
      "outlet.description = 'shark laser'\n",
      "\n",
      "# See our changes\n",
      "outlet"
     ],
     "language": "python",
     "prompt_number": 25
    },
    {
     "cell_type": "markdown",
     "metadata": {},
     "source": [
      "Powerswitch Low level access methods\n",
      "=======================================================\n",
      "The PowerSwitch object has a number of methods that can be used for more direct access to the powerswitch.  These interfaces may change in future releases."
     ]
    },
    {
     "cell_type": "markdown",
     "metadata": {},
     "source": [
      "Configuration Methods\n",
      "---------------------\n",
      "The powerswitch object provides 2 methods to save and load the configuration from the dlipower.conf configuraiton file.\n",
      "\n",
      "    load_configuration() - Load the configuration from the configuraiton file (overwrites the current configuration values)\n",
      "    save_configuration() - Save the current powerswitch configuration to the configuration file"
     ]
    },
    {
     "cell_type": "code",
     "execution_count": null,
     "metadata": {},
     "outputs": [
      {
       "output_type": "pyout",
       "prompt_number": 3,
       "text": [
        "{u'cycletime': 3,\n",
        " u'hostname': u'lpc.digital-loggers.com',\n",
        " u'password': u'4321',\n",
        " u'timeout': 20,\n",
        " u'userid': u'admin'}"
       ],
       "metadata": {}
      }
     ],
     "input": [
      "# Load the configuration from the config file\n",
      "power_switch.load_configuration()"
     ],
     "language": "python",
     "prompt_number": 3
    },
    {
     "cell_type": "code",
     "execution_count": null,
     "metadata": {},
     "outputs": [],
     "input": [
      "# Change the hostname to the digital loggers test web powerswitch\n",
      "power_switch.hostname = 'lpc.digital-loggers.com'\n",
      "\n",
      "# Save the configuration\n",
      "power_switch.save_configuration()"
     ],
     "language": "python",
     "prompt_number": 6
    },
    {
     "cell_type": "markdown",
     "metadata": {},
     "source": [
      "Powerswitch Management Methods\n",
      "------------------------------\n",
      "The PowerSwitch has a number of methods to manage the powerswitch direcly."
     ]
    },
    {
     "cell_type": "markdown",
     "metadata": {},
     "source": [
      "    verify() - This method checks to see if the power switch is responding on the network.  True, indicates the power switch is operational."
     ]
    },
    {
     "cell_type": "code",
     "execution_count": null,
     "metadata": {},
     "outputs": [
      {
       "output_type": "pyout",
       "prompt_number": 10,
       "text": [
        "True"
       ],
       "metadata": {}
      }
     ],
     "input": [
      "power_switch.verify()"
     ],
     "language": "python",
     "prompt_number": 10
    },
    {
     "cell_type": "markdown",
     "metadata": {},
     "source": [
      "    set_outlet_name(outlet, name) - This renames an outlet to the name specified.  This returns True on sucess and False if the rename fails."
     ]
    },
    {
     "cell_type": "code",
     "execution_count": null,
     "metadata": {},
     "outputs": [
      {
       "output_type": "pyout",
       "prompt_number": 11,
       "text": [
        "True"
       ],
       "metadata": {}
      }
     ],
     "input": [
      "power_switch.set_outlet_name(2, 'killer robot')"
     ],
     "language": "python",
     "prompt_number": 11
    },
    {
     "cell_type": "markdown",
     "metadata": {},
     "source": [
      "    determine_outlet(outlet_name) - Determine the outlet number from the name.  This will generate a ValueError exception if the name specified does not match a name on the switch."
     ]
    },
    {
     "cell_type": "code",
     "execution_count": null,
     "metadata": {},
     "outputs": [
      {
       "output_type": "pyout",
       "prompt_number": 15,
       "text": [
        "2"
       ],
       "metadata": {}
      }
     ],
     "input": [
      "power_switch.determine_outlet('killer robot')"
     ],
     "language": "python",
     "prompt_number": 15
    },
    {
     "cell_type": "markdown",
     "metadata": {},
     "source": [
      "    status(outlet) - Return the status of the outlet specified.  The outlet argument can be either an outlet number (integer) or an outlet_name.  It returns the string \"OFF\" if it's off and the string \"ON\" if it is on."
     ]
    },
    {
     "cell_type": "code",
     "execution_count": null,
     "metadata": {},
     "outputs": [
      {
       "output_type": "pyout",
       "prompt_number": 12,
       "text": [
        "u'OFF'"
       ],
       "metadata": {}
      }
     ],
     "input": [
      "power_switch.status('killer robot')"
     ],
     "language": "python",
     "prompt_number": 12
    },
    {
     "cell_type": "markdown",
     "metadata": {},
     "source": [
      "    statuslist() - Return a list of tuples with the status for all the outlets.  The tuples are (outlet_number, outlet_name, outlet_state)."
     ]
    },
    {
     "cell_type": "code",
     "execution_count": null,
     "metadata": {},
     "outputs": [
      {
       "output_type": "pyout",
       "prompt_number": 17,
       "text": [
        "[[1, u'Tuin beregening', u'ON'],\n",
        " [2, u'killer robot', u'OFF'],\n",
        " [3, u'Buiten verlicting', u'ON'],\n",
        " [4, u'Meeting Room Lights', u'OFF'],\n",
        " [5, u'Brocade LVM123 - TCH0004', u'ON'],\n",
        " [6, u'Shoretel ABC123 - TCH0005', u'ON'],\n",
        " [7, u'Shortel 24V - TCH0006', u'ON'],\n",
        " [8, u'Shortel 24V - TCH0007', u'ON']]"
       ],
       "metadata": {}
      }
     ],
     "input": [
      "power_switch.statuslist()"
     ],
     "language": "python",
     "prompt_number": 17
    },
    {
     "cell_type": "code",
     "execution_count": null,
     "metadata": {},
     "outputs": [
      {
       "output_type": "stream",
       "stream": "stdout",
       "text": [
        "Outlet\tHostname       \tState\n",
        "1\tTuin beregening\tON"
       ]
      },
      {
       "output_type": "stream",
       "stream": "stdout",
       "text": [
        "\n",
        "2\tSchuur         \tOFF\n",
        "3\tBuiten verlicti\tON\n",
        "4\tMeeting Room Li\tOFF\n",
        "5\tBrocade LVM123 \tON\n",
        "6\tShoretel ABC123\tON\n",
        "7\tShortel 24V - T\tON\n",
        "8\tShortel 24V - T\tON\n"
       ]
      }
     ],
     "input": [
      "power_switch.printstatus()"
     ],
     "language": "python",
     "prompt_number": 3
    }
   ]
  }
 ],
 "cells": [],
 "metadata": {
  "name": "",
  "signature": "sha256:d96878ed3baf32322e3d72e15589ca717443b1fc8f5640dbb51a8615cda801a9"
 },
 "nbformat": 3,
 "nbformat_minor": 0
}
