{
 "metadata": {
  "name": "",
  "signature": "sha256:81880b91f418f1e92a1ff074d3535f006f63f73cb9052f0c588f2b7b1f7bafac"
 },
 "nbformat": 3,
 "nbformat_minor": 0,
 "worksheets": [
  {
   "cells": [
    {
     "cell_type": "code",
     "collapsed": false,
     "input": [
      "from __future__ import print_function\n",
      "import dlipower\n",
      "\n",
      "\n",
      "print('Connecting to a DLI PowerSwitch at lpc.digital-loggers.com')\n",
      "switch = dlipower.PowerSwitch(hostname=\"lpc.digital-loggers.com\", userid=\"admin\")\n",
      "\n",
      "print('Turning off the first outlet')\n",
      "switch[0].state = 'OFF'\n",
      "\n",
      "print('The powerstate of the first outlet is currently', switch[0].state)\n",
      "\n",
      "print('Renaming the first outlet as \"Traffic light\"')\n",
      "switch[0].description = 'Traffic light'\n",
      "\n",
      "print('The current status of the powerswitch is: %s' % switch)"
     ],
     "language": "python",
     "metadata": {},
     "outputs": [
      {
       "output_type": "stream",
       "stream": "stdout",
       "text": [
        "Connecting to a DLI PowerSwitch at lpc.digital-loggers.com\n",
        "Turning off the first outlet\n",
        "The powerstate of the first outlet is currently"
       ]
      },
      {
       "output_type": "stream",
       "stream": "stdout",
       "text": [
        " OFF\n",
        "Renaming the first outlet as \"Traffic light\"\n",
        "The current status of the powerswitch is: DLIPowerSwitch at lpc.digital-loggers.com\n",
        "Outlet\tHostname       \tState\n",
        "1\tTraffic light  \tOFF\n",
        "2\tkiller robot   \tON\n",
        "3\tBuiten verlicti\tON\n",
        "4\tMeeting Room Li\tOFF\n",
        "5\tBrocade LVM123 \tON\n",
        "6\tShoretel ABC123\tON\n",
        "7\tShortel 24V - T\tON\n",
        "8\tShortel 24V - T\tON\n"
       ]
      },
      {
       "output_type": "stream",
       "stream": "stdout",
       "text": [
        "\n"
       ]
      }
     ],
     "prompt_number": 4
    },
    {
     "cell_type": "code",
     "collapsed": false,
     "input": [],
     "language": "python",
     "metadata": {},
     "outputs": []
    }
   ],
   "metadata": {}
  }
 ]
}
